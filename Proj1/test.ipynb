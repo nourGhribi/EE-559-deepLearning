{
  "nbformat": 4,
  "nbformat_minor": 0,
  "metadata": {
    "colab": {
      "name": "test.ipynb",
      "provenance": [],
      "collapsed_sections": []
    },
    "kernelspec": {
      "name": "python3",
      "display_name": "Python 3"
    },
    "accelerator": "GPU",
    "language_info": {
      "name": "python"
    },
    "widgets": {
      "application/vnd.jupyter.widget-state+json": {
        "d314d3bd90e44f07aa0fedd49a4ddb46": {
          "model_module": "@jupyter-widgets/controls",
          "model_name": "HBoxModel",
          "state": {
            "_view_name": "HBoxView",
            "_dom_classes": [],
            "_model_name": "HBoxModel",
            "_view_module": "@jupyter-widgets/controls",
            "_model_module_version": "1.5.0",
            "_view_count": null,
            "_view_module_version": "1.5.0",
            "box_style": "",
            "layout": "IPY_MODEL_5988c00c291845379cc08ce9e308df47",
            "_model_module": "@jupyter-widgets/controls",
            "children": [
              "IPY_MODEL_0b89946156734bf5af23399f064b6213",
              "IPY_MODEL_b41e4cc749314995a224978bbfaaf967"
            ]
          }
        },
        "5988c00c291845379cc08ce9e308df47": {
          "model_module": "@jupyter-widgets/base",
          "model_name": "LayoutModel",
          "state": {
            "_view_name": "LayoutView",
            "grid_template_rows": null,
            "right": null,
            "justify_content": null,
            "_view_module": "@jupyter-widgets/base",
            "overflow": null,
            "_model_module_version": "1.2.0",
            "_view_count": null,
            "flex_flow": null,
            "width": null,
            "min_width": null,
            "border": null,
            "align_items": null,
            "bottom": null,
            "_model_module": "@jupyter-widgets/base",
            "top": null,
            "grid_column": null,
            "overflow_y": null,
            "overflow_x": null,
            "grid_auto_flow": null,
            "grid_area": null,
            "grid_template_columns": null,
            "flex": null,
            "_model_name": "LayoutModel",
            "justify_items": null,
            "grid_row": null,
            "max_height": null,
            "align_content": null,
            "visibility": null,
            "align_self": null,
            "height": null,
            "min_height": null,
            "padding": null,
            "grid_auto_rows": null,
            "grid_gap": null,
            "max_width": null,
            "order": null,
            "_view_module_version": "1.2.0",
            "grid_template_areas": null,
            "object_position": null,
            "object_fit": null,
            "grid_auto_columns": null,
            "margin": null,
            "display": null,
            "left": null
          }
        },
        "0b89946156734bf5af23399f064b6213": {
          "model_module": "@jupyter-widgets/controls",
          "model_name": "FloatProgressModel",
          "state": {
            "_view_name": "ProgressView",
            "style": "IPY_MODEL_fec54eddb8914742a8d195a3f1badb98",
            "_dom_classes": [],
            "description": "100%",
            "_model_name": "FloatProgressModel",
            "bar_style": "success",
            "max": 450,
            "_view_module": "@jupyter-widgets/controls",
            "_model_module_version": "1.5.0",
            "value": 450,
            "_view_count": null,
            "_view_module_version": "1.5.0",
            "orientation": "horizontal",
            "min": 0,
            "description_tooltip": null,
            "_model_module": "@jupyter-widgets/controls",
            "layout": "IPY_MODEL_d4bd4fad28b748b69c9e2a1626edf398"
          }
        },
        "b41e4cc749314995a224978bbfaaf967": {
          "model_module": "@jupyter-widgets/controls",
          "model_name": "HTMLModel",
          "state": {
            "_view_name": "HTMLView",
            "style": "IPY_MODEL_330f98427b814a37b7b58d25a1447680",
            "_dom_classes": [],
            "description": "",
            "_model_name": "HTMLModel",
            "placeholder": "​",
            "_view_module": "@jupyter-widgets/controls",
            "_model_module_version": "1.5.0",
            "value": " 450/450 [22:12&lt;00:00,  2.96s/it]",
            "_view_count": null,
            "_view_module_version": "1.5.0",
            "description_tooltip": null,
            "_model_module": "@jupyter-widgets/controls",
            "layout": "IPY_MODEL_8e70c9aa3a2b48aeb93bbcd1268285e2"
          }
        },
        "fec54eddb8914742a8d195a3f1badb98": {
          "model_module": "@jupyter-widgets/controls",
          "model_name": "ProgressStyleModel",
          "state": {
            "_view_name": "StyleView",
            "_model_name": "ProgressStyleModel",
            "description_width": "initial",
            "_view_module": "@jupyter-widgets/base",
            "_model_module_version": "1.5.0",
            "_view_count": null,
            "_view_module_version": "1.2.0",
            "bar_color": null,
            "_model_module": "@jupyter-widgets/controls"
          }
        },
        "d4bd4fad28b748b69c9e2a1626edf398": {
          "model_module": "@jupyter-widgets/base",
          "model_name": "LayoutModel",
          "state": {
            "_view_name": "LayoutView",
            "grid_template_rows": null,
            "right": null,
            "justify_content": null,
            "_view_module": "@jupyter-widgets/base",
            "overflow": null,
            "_model_module_version": "1.2.0",
            "_view_count": null,
            "flex_flow": null,
            "width": null,
            "min_width": null,
            "border": null,
            "align_items": null,
            "bottom": null,
            "_model_module": "@jupyter-widgets/base",
            "top": null,
            "grid_column": null,
            "overflow_y": null,
            "overflow_x": null,
            "grid_auto_flow": null,
            "grid_area": null,
            "grid_template_columns": null,
            "flex": null,
            "_model_name": "LayoutModel",
            "justify_items": null,
            "grid_row": null,
            "max_height": null,
            "align_content": null,
            "visibility": null,
            "align_self": null,
            "height": null,
            "min_height": null,
            "padding": null,
            "grid_auto_rows": null,
            "grid_gap": null,
            "max_width": null,
            "order": null,
            "_view_module_version": "1.2.0",
            "grid_template_areas": null,
            "object_position": null,
            "object_fit": null,
            "grid_auto_columns": null,
            "margin": null,
            "display": null,
            "left": null
          }
        },
        "330f98427b814a37b7b58d25a1447680": {
          "model_module": "@jupyter-widgets/controls",
          "model_name": "DescriptionStyleModel",
          "state": {
            "_view_name": "StyleView",
            "_model_name": "DescriptionStyleModel",
            "description_width": "",
            "_view_module": "@jupyter-widgets/base",
            "_model_module_version": "1.5.0",
            "_view_count": null,
            "_view_module_version": "1.2.0",
            "_model_module": "@jupyter-widgets/controls"
          }
        },
        "8e70c9aa3a2b48aeb93bbcd1268285e2": {
          "model_module": "@jupyter-widgets/base",
          "model_name": "LayoutModel",
          "state": {
            "_view_name": "LayoutView",
            "grid_template_rows": null,
            "right": null,
            "justify_content": null,
            "_view_module": "@jupyter-widgets/base",
            "overflow": null,
            "_model_module_version": "1.2.0",
            "_view_count": null,
            "flex_flow": null,
            "width": null,
            "min_width": null,
            "border": null,
            "align_items": null,
            "bottom": null,
            "_model_module": "@jupyter-widgets/base",
            "top": null,
            "grid_column": null,
            "overflow_y": null,
            "overflow_x": null,
            "grid_auto_flow": null,
            "grid_area": null,
            "grid_template_columns": null,
            "flex": null,
            "_model_name": "LayoutModel",
            "justify_items": null,
            "grid_row": null,
            "max_height": null,
            "align_content": null,
            "visibility": null,
            "align_self": null,
            "height": null,
            "min_height": null,
            "padding": null,
            "grid_auto_rows": null,
            "grid_gap": null,
            "max_width": null,
            "order": null,
            "_view_module_version": "1.2.0",
            "grid_template_areas": null,
            "object_position": null,
            "object_fit": null,
            "grid_auto_columns": null,
            "margin": null,
            "display": null,
            "left": null
          }
        },
        "daa49bfb43b447a99592387d8cd75572": {
          "model_module": "@jupyter-widgets/controls",
          "model_name": "HBoxModel",
          "state": {
            "_view_name": "HBoxView",
            "_dom_classes": [],
            "_model_name": "HBoxModel",
            "_view_module": "@jupyter-widgets/controls",
            "_model_module_version": "1.5.0",
            "_view_count": null,
            "_view_module_version": "1.5.0",
            "box_style": "",
            "layout": "IPY_MODEL_7b5288dc854d48cfab976c6456b78c0f",
            "_model_module": "@jupyter-widgets/controls",
            "children": [
              "IPY_MODEL_059b1427d23a4dce966a75a3c9a29b05",
              "IPY_MODEL_cca4179029c3453786d80d1f26605ab0"
            ]
          }
        },
        "7b5288dc854d48cfab976c6456b78c0f": {
          "model_module": "@jupyter-widgets/base",
          "model_name": "LayoutModel",
          "state": {
            "_view_name": "LayoutView",
            "grid_template_rows": null,
            "right": null,
            "justify_content": null,
            "_view_module": "@jupyter-widgets/base",
            "overflow": null,
            "_model_module_version": "1.2.0",
            "_view_count": null,
            "flex_flow": null,
            "width": null,
            "min_width": null,
            "border": null,
            "align_items": null,
            "bottom": null,
            "_model_module": "@jupyter-widgets/base",
            "top": null,
            "grid_column": null,
            "overflow_y": null,
            "overflow_x": null,
            "grid_auto_flow": null,
            "grid_area": null,
            "grid_template_columns": null,
            "flex": null,
            "_model_name": "LayoutModel",
            "justify_items": null,
            "grid_row": null,
            "max_height": null,
            "align_content": null,
            "visibility": null,
            "align_self": null,
            "height": null,
            "min_height": null,
            "padding": null,
            "grid_auto_rows": null,
            "grid_gap": null,
            "max_width": null,
            "order": null,
            "_view_module_version": "1.2.0",
            "grid_template_areas": null,
            "object_position": null,
            "object_fit": null,
            "grid_auto_columns": null,
            "margin": null,
            "display": null,
            "left": null
          }
        },
        "059b1427d23a4dce966a75a3c9a29b05": {
          "model_module": "@jupyter-widgets/controls",
          "model_name": "FloatProgressModel",
          "state": {
            "_view_name": "ProgressView",
            "style": "IPY_MODEL_de8095d853f1460fbb79c373a42fd41d",
            "_dom_classes": [],
            "description": "  7%",
            "_model_name": "FloatProgressModel",
            "bar_style": "danger",
            "max": 450,
            "_view_module": "@jupyter-widgets/controls",
            "_model_module_version": "1.5.0",
            "value": 31,
            "_view_count": null,
            "_view_module_version": "1.5.0",
            "orientation": "horizontal",
            "min": 0,
            "description_tooltip": null,
            "_model_module": "@jupyter-widgets/controls",
            "layout": "IPY_MODEL_4e018c2ac9fc41b6927bab8dac0ab72e"
          }
        },
        "cca4179029c3453786d80d1f26605ab0": {
          "model_module": "@jupyter-widgets/controls",
          "model_name": "HTMLModel",
          "state": {
            "_view_name": "HTMLView",
            "style": "IPY_MODEL_06ce55adf65744a0b63ab6597aaed7dd",
            "_dom_classes": [],
            "description": "",
            "_model_name": "HTMLModel",
            "placeholder": "​",
            "_view_module": "@jupyter-widgets/controls",
            "_model_module_version": "1.5.0",
            "value": " 31/450 [06:54&lt;1:33:18, 13.36s/it]",
            "_view_count": null,
            "_view_module_version": "1.5.0",
            "description_tooltip": null,
            "_model_module": "@jupyter-widgets/controls",
            "layout": "IPY_MODEL_c42c4c7efe4f4556978093d168fa137f"
          }
        },
        "de8095d853f1460fbb79c373a42fd41d": {
          "model_module": "@jupyter-widgets/controls",
          "model_name": "ProgressStyleModel",
          "state": {
            "_view_name": "StyleView",
            "_model_name": "ProgressStyleModel",
            "description_width": "initial",
            "_view_module": "@jupyter-widgets/base",
            "_model_module_version": "1.5.0",
            "_view_count": null,
            "_view_module_version": "1.2.0",
            "bar_color": null,
            "_model_module": "@jupyter-widgets/controls"
          }
        },
        "4e018c2ac9fc41b6927bab8dac0ab72e": {
          "model_module": "@jupyter-widgets/base",
          "model_name": "LayoutModel",
          "state": {
            "_view_name": "LayoutView",
            "grid_template_rows": null,
            "right": null,
            "justify_content": null,
            "_view_module": "@jupyter-widgets/base",
            "overflow": null,
            "_model_module_version": "1.2.0",
            "_view_count": null,
            "flex_flow": null,
            "width": null,
            "min_width": null,
            "border": null,
            "align_items": null,
            "bottom": null,
            "_model_module": "@jupyter-widgets/base",
            "top": null,
            "grid_column": null,
            "overflow_y": null,
            "overflow_x": null,
            "grid_auto_flow": null,
            "grid_area": null,
            "grid_template_columns": null,
            "flex": null,
            "_model_name": "LayoutModel",
            "justify_items": null,
            "grid_row": null,
            "max_height": null,
            "align_content": null,
            "visibility": null,
            "align_self": null,
            "height": null,
            "min_height": null,
            "padding": null,
            "grid_auto_rows": null,
            "grid_gap": null,
            "max_width": null,
            "order": null,
            "_view_module_version": "1.2.0",
            "grid_template_areas": null,
            "object_position": null,
            "object_fit": null,
            "grid_auto_columns": null,
            "margin": null,
            "display": null,
            "left": null
          }
        },
        "06ce55adf65744a0b63ab6597aaed7dd": {
          "model_module": "@jupyter-widgets/controls",
          "model_name": "DescriptionStyleModel",
          "state": {
            "_view_name": "StyleView",
            "_model_name": "DescriptionStyleModel",
            "description_width": "",
            "_view_module": "@jupyter-widgets/base",
            "_model_module_version": "1.5.0",
            "_view_count": null,
            "_view_module_version": "1.2.0",
            "_model_module": "@jupyter-widgets/controls"
          }
        },
        "c42c4c7efe4f4556978093d168fa137f": {
          "model_module": "@jupyter-widgets/base",
          "model_name": "LayoutModel",
          "state": {
            "_view_name": "LayoutView",
            "grid_template_rows": null,
            "right": null,
            "justify_content": null,
            "_view_module": "@jupyter-widgets/base",
            "overflow": null,
            "_model_module_version": "1.2.0",
            "_view_count": null,
            "flex_flow": null,
            "width": null,
            "min_width": null,
            "border": null,
            "align_items": null,
            "bottom": null,
            "_model_module": "@jupyter-widgets/base",
            "top": null,
            "grid_column": null,
            "overflow_y": null,
            "overflow_x": null,
            "grid_auto_flow": null,
            "grid_area": null,
            "grid_template_columns": null,
            "flex": null,
            "_model_name": "LayoutModel",
            "justify_items": null,
            "grid_row": null,
            "max_height": null,
            "align_content": null,
            "visibility": null,
            "align_self": null,
            "height": null,
            "min_height": null,
            "padding": null,
            "grid_auto_rows": null,
            "grid_gap": null,
            "max_width": null,
            "order": null,
            "_view_module_version": "1.2.0",
            "grid_template_areas": null,
            "object_position": null,
            "object_fit": null,
            "grid_auto_columns": null,
            "margin": null,
            "display": null,
            "left": null
          }
        }
      }
    }
  },
  "cells": [
    {
      "cell_type": "markdown",
      "metadata": {
        "id": "aueKEqHjT6lk"
      },
      "source": [
        "# Hyperparameter optimization and displaying models output"
      ]
    },
    {
      "cell_type": "markdown",
      "metadata": {
        "id": "9DnS5dirUEXL"
      },
      "source": [
        "In this Notebook, we show the different steps through which our three models ShallowModel, DeepModel and DeepModelWS are optimized with respect to their hyperparameters. Then, for the best combination of parameters, we display the evolution of model output with respect to the epoch number."
      ]
    },
    {
      "cell_type": "code",
      "metadata": {
        "colab": {
          "base_uri": "https://localhost:8080/"
        },
        "id": "48oYocqqsBHg",
        "outputId": "2241d8a8-fa3f-46ea-faf8-92d06328d57b"
      },
      "source": [
        "\n",
        "from google.colab import drive\n",
        "drive.mount('/content/drive')\n",
        "%cd \"/content/drive/MyDrive/Colab Notebooks/Deep Learning/Proj1\"\n"
      ],
      "execution_count": 1,
      "outputs": [
        {
          "output_type": "stream",
          "text": [
            "Mounted at /content/drive\n",
            "/content/drive/MyDrive/Colab Notebooks/Deep Learning/Proj1\n"
          ],
          "name": "stdout"
        }
      ]
    },
    {
      "cell_type": "code",
      "metadata": {
        "id": "B5AePJJtMt4C"
      },
      "source": [
        "import torch\n",
        "from torch import nn\n",
        "from torch.nn import functional as F\n",
        "from torch import optim\n",
        "from torch import Tensor\n",
        "from torch import nn\n",
        "from torch import cuda\n",
        "\n",
        "import pickle\n",
        "from tqdm.auto import tqdm\n",
        "import matplotlib.pyplot as plt\n",
        "\n",
        "import dlc_practical_prologue as prologue\n",
        "\n",
        "from models import *\n",
        "from helpers import *"
      ],
      "execution_count": 2,
      "outputs": []
    },
    {
      "cell_type": "code",
      "metadata": {
        "colab": {
          "base_uri": "https://localhost:8080/"
        },
        "id": "XDtWOmGmsMl_",
        "outputId": "d43418c4-fd7f-48bf-866c-8554311974c7"
      },
      "source": [
        "nb_samples = 1000\n",
        "train_input, train_target, train_classes, test_input, test_target, test_classes = prologue.generate_pair_sets(nb_samples)\n",
        "\n",
        "# work on GPU if device is available\n",
        "device_name = \"cuda\" if torch.cuda.is_available() else \"cpu\"\n",
        "device = torch.device(device_name)\n",
        "print(\"Using device \" + device_name)\n",
        "train_input, train_target, train_classes, test_input, test_target, test_classes = train_input.to(device), train_target.to(device), train_classes.to(device), test_input.to(device), test_target.to(device), test_classes.to(device)\n",
        "\n",
        "print('train_input', train_input.size(), 'train_classes', train_classes.size(), 'train_target', train_target.size())\n",
        "print('test_input', test_input.size(), 'test_classes', test_classes.size(), 'test_target', test_target.size())"
      ],
      "execution_count": 3,
      "outputs": [
        {
          "output_type": "stream",
          "text": [
            "Using device cpu\n",
            "train_input torch.Size([1000, 2, 14, 14]) train_classes torch.Size([1000, 2]) train_target torch.Size([1000])\n",
            "test_input torch.Size([1000, 2, 14, 14]) test_classes torch.Size([1000, 2]) test_target torch.Size([1000])\n"
          ],
          "name": "stdout"
        }
      ]
    },
    {
      "cell_type": "markdown",
      "metadata": {
        "id": "BvomOP3yT4k8"
      },
      "source": [
        "## Hyperparameters which are optimized:\n",
        "During this task, we fix the optimizer and the number of epochs to Adam and 25 respectively. As for the hyperparameters tested, below is the list:\n",
        "\n",
        "*   learning rate\n",
        "*   mini batch size\n",
        "*   number of hidden layers\n",
        "*   auxiliary loss weight (only for DeepModel and DeepModelWS)"
      ]
    },
    {
      "cell_type": "code",
      "metadata": {
        "id": "rOgjGcYRxBd3"
      },
      "source": [
        "nb_trials = 10\n",
        "# parameters to be tested\n",
        "optimizers = [optim.Adam]\n",
        "nb_epochs = [25]\n",
        "lrs = [1e-4,1e-3,1e-2]\n",
        "mini_batch_sizes = [100] # [1,250,1000] # best is always 1\n",
        "nb_hiddens = [100,300,500] \n",
        "auxiliary_loss_weights = [0,0.25,0.5,0.75,1] # best output for weight = 0.5 when mini_batch_size = 1"
      ],
      "execution_count": 4,
      "outputs": []
    },
    {
      "cell_type": "code",
      "metadata": {
        "id": "2qO54dXu3O_C",
        "colab": {
          "base_uri": "https://localhost:8080/",
          "height": 67,
          "referenced_widgets": [
            "d314d3bd90e44f07aa0fedd49a4ddb46",
            "5988c00c291845379cc08ce9e308df47",
            "0b89946156734bf5af23399f064b6213",
            "b41e4cc749314995a224978bbfaaf967",
            "fec54eddb8914742a8d195a3f1badb98",
            "d4bd4fad28b748b69c9e2a1626edf398",
            "330f98427b814a37b7b58d25a1447680",
            "8e70c9aa3a2b48aeb93bbcd1268285e2"
          ]
        },
        "outputId": "0913d628-abd4-4a8f-c75d-2d3e4aee4b6a"
      },
      "source": [
        "TRAIN_MODEL_DEEP = False # Switch to True to retrain the models.\n",
        "LOAD_PICKLE_DEEP = True  # Switch to False to ignore loading pickle.\n",
        "\n",
        "if LOAD_PICKLE_DEEP == True:\n",
        "  test_accuracies_deep = torch.load('data/pickles/deep/test_accuracies.pt')\n",
        "else:\n",
        "  test_accuracies_deep = torch.zeros(len(optimizers), len(nb_epochs), len(lrs), len(mini_batch_sizes), len(nb_hiddens), len(auxiliary_loss_weights))\n",
        "# Hyperparameter optimization grid search for DeepModel\n",
        "if TRAIN_MODEL_DEEP == True:\n",
        "  with tqdm(total=len(optimizers)*len(nb_epochs)*len(lrs)*len(mini_batch_sizes)*len(nb_hiddens)*len(auxiliary_loss_weights)*nb_trials) as pbar:\n",
        "    for i,optimizer in enumerate(optimizers):\n",
        "      for j,nb_epoch in enumerate(nb_epochs):\n",
        "        for k,lr in enumerate(lrs):\n",
        "          for l,mini_batch_size in enumerate(mini_batch_sizes):\n",
        "            for m,nb_hidden in enumerate(nb_hiddens):\n",
        "              for n,auxiliary_loss_weight in enumerate(auxiliary_loss_weights):\n",
        "                if test_accuracies_deep[i,j,k,l,m,n] == 0:\n",
        "                  trial_test_accuracies = torch.zeros(nb_trials)\n",
        "                  for trial in range(nb_trials):\n",
        "                    train_input, train_target, train_classes, test_input, test_target, test_classes = prologue.generate_pair_sets(nb_samples)\n",
        "                    train_input, train_target, train_classes, test_input, test_target, test_classes = train_input.to(device), train_target.to(device), train_classes.to(device), test_input.to(device), test_target.to(device), test_classes.to(device)\n",
        "                    deep = DeepModel(nb_hidden, nb_epoch, lr, mini_batch_size, auxiliary_loss_weight).to(device)\n",
        "                    acc_losses, train_accuracy, test_accuracy, train_error, test_error = deep.train_model(train_input, train_classes,\n",
        "                                                                                                          train_target, test_input,\n",
        "                                                                                                          test_target)\n",
        "                    trial_test_accuracies[trial] = torch.max(test_accuracy)\n",
        "                    pbar.update(1)\n",
        "                  test_accuracies_deep[i,j,k,l,m,n] = torch.mean(trial_test_accuracies).item()\n",
        "          torch.save(test_accuracies_deep,'data/pickles/deep/test_accuracies.pt')"
      ],
      "execution_count": 39,
      "outputs": [
        {
          "output_type": "display_data",
          "data": {
            "application/vnd.jupyter.widget-view+json": {
              "model_id": "d314d3bd90e44f07aa0fedd49a4ddb46",
              "version_minor": 0,
              "version_major": 2
            },
            "text/plain": [
              "HBox(children=(FloatProgress(value=0.0, max=450.0), HTML(value='')))"
            ]
          },
          "metadata": {
            "tags": []
          }
        },
        {
          "output_type": "stream",
          "text": [
            "\n"
          ],
          "name": "stdout"
        }
      ]
    },
    {
      "cell_type": "code",
      "metadata": {
        "id": "OYhn6h7VrPeW",
        "colab": {
          "base_uri": "https://localhost:8080/"
        },
        "outputId": "56c7a1c8-65fa-4384-92ce-f6f0d7facd1f"
      },
      "source": [
        "max_index = (test_accuracies_deep == torch.max(test_accuracies_deep)).nonzero(as_tuple=True)\n",
        "i,j,k,l,m,n = max_index\n",
        "optimizer_deep = optimizers[i]\n",
        "nb_epoch_deep = nb_epochs[j]\n",
        "lr_deep = lrs[k]\n",
        "mini_batch_size_deep = mini_batch_sizes[l]\n",
        "nb_hidden_deep = nb_hiddens[m]\n",
        "auxiliary_loss_weight_deep = auxiliary_loss_weights[n]\n",
        "print(\"Best test accuracy for DeepModel is {}, obtained by the following parameters:\".format(test_accuracies_deep[max_index]))\n",
        "print(\"optimizer = {0}, nb_epoch = {1}, lr = {2}, mini_batch_size = {3}, nb_hidden = {4}, auxiliary_loss_weight = {5}\".format(optimizer_deep, nb_epoch_deep, lr_deep, mini_batch_size_deep, nb_hidden_deep, auxiliary_loss_weight_deep))"
      ],
      "execution_count": 40,
      "outputs": [
        {
          "output_type": "stream",
          "text": [
            "Best test accuracy for DeepModel is tensor([80.4400]), obtained by the following parameters:\n",
            "optimizer = <class 'torch.optim.adam.Adam'>, nb_epoch = 25, lr = 0.01, mini_batch_size = 100, nb_hidden = 300, auxiliary_loss_weight = 0\n"
          ],
          "name": "stdout"
        }
      ]
    },
    {
      "cell_type": "code",
      "metadata": {
        "id": "EKrf2H78sl8W",
        "colab": {
          "base_uri": "https://localhost:8080/",
          "height": 445,
          "referenced_widgets": [
            "daa49bfb43b447a99592387d8cd75572",
            "7b5288dc854d48cfab976c6456b78c0f",
            "059b1427d23a4dce966a75a3c9a29b05",
            "cca4179029c3453786d80d1f26605ab0",
            "de8095d853f1460fbb79c373a42fd41d",
            "4e018c2ac9fc41b6927bab8dac0ab72e",
            "06ce55adf65744a0b63ab6597aaed7dd",
            "c42c4c7efe4f4556978093d168fa137f"
          ]
        },
        "outputId": "118b9363-7bdc-487a-af8a-f3e8f1da28a1"
      },
      "source": [
        "TRAIN_MODEL_DEEP_WS = False # Switch to True to retrain the models.\n",
        "LOAD_PICKLE_DEEP_wS = True  # Switch to False to ignore loading pickle.\n",
        "\n",
        "if LOAD_PICKLE_DEEP_wS == True:\n",
        "  test_accuracies_deep_ws = torch.load('data/pickles/deep_ws/test_accuracies.pt')\n",
        "else:\n",
        "  test_accuracies_deep = torch.zeros(len(optimizers), len(nb_epochs), len(lrs), len(mini_batch_sizes), len(nb_hiddens), len(auxiliary_loss_weights))\n",
        "# Hyperparameter optimization grid search for DeepModelWS\n",
        "if TRAIN_MODEL_DEEP_WS == True:\n",
        "  with tqdm(total=len(optimizers)*len(nb_epochs)*len(lrs)*len(mini_batch_sizes)*len(nb_hiddens)*len(auxiliary_loss_weights)*nb_trials) as pbar:\n",
        "    for i,optimizer in enumerate(optimizers):\n",
        "      for j,nb_epoch in enumerate(nb_epochs):\n",
        "        for k,lr in enumerate(lrs):\n",
        "          for l,mini_batch_size in enumerate(mini_batch_sizes):\n",
        "            for m,nb_hidden in enumerate(nb_hiddens):\n",
        "              for n,auxiliary_loss_weight in enumerate(auxiliary_loss_weights):\n",
        "                if test_accuracies_deep_ws[i,j,k,l,m,n] == 0:\n",
        "                  trial_test_accuracies = torch.zeros(nb_trials)\n",
        "                  for trial in range(nb_trials):\n",
        "                    train_input, train_target, train_classes, test_input, test_target, test_classes = prologue.generate_pair_sets(nb_samples)\n",
        "                    train_input, train_target, train_classes, test_input, test_target, test_classes = train_input.to(device), train_target.to(device), train_classes.to(device), test_input.to(device), test_target.to(device), test_classes.to(device)\n",
        "                    deep_ws = DeepModelWS(nb_hidden, nb_epoch, lr, mini_batch_size, auxiliary_loss_weight).to(device)\n",
        "                    acc_losses, train_accuracy, test_accuracy, train_error, test_error = deep_ws.train_model(train_input, train_classes,\n",
        "                                                                                                          train_target, test_input,\n",
        "                                                                                                          test_target)\n",
        "                    trial_test_accuracies[trial] = torch.max(test_accuracy)\n",
        "                    pbar.update(1)\n",
        "                  test_accuracies_deep_ws[i,j,k,l,m,n] = torch.mean(trial_test_accuracies).item()\n",
        "          torch.save(test_accuracies_deep_ws,'data/pickles/deep_ws/test_accuracies.pt')"
      ],
      "execution_count": 5,
      "outputs": [
        {
          "output_type": "display_data",
          "data": {
            "application/vnd.jupyter.widget-view+json": {
              "model_id": "daa49bfb43b447a99592387d8cd75572",
              "version_minor": 0,
              "version_major": 2
            },
            "text/plain": [
              "HBox(children=(FloatProgress(value=0.0, max=450.0), HTML(value='')))"
            ]
          },
          "metadata": {
            "tags": []
          }
        },
        {
          "output_type": "stream",
          "text": [
            "\n"
          ],
          "name": "stdout"
        },
        {
          "output_type": "error",
          "ename": "KeyboardInterrupt",
          "evalue": "ignored",
          "traceback": [
            "\u001b[0;31m---------------------------------------------------------------------------\u001b[0m",
            "\u001b[0;31mKeyboardInterrupt\u001b[0m                         Traceback (most recent call last)",
            "\u001b[0;32m<ipython-input-5-e77e4800f119>\u001b[0m in \u001b[0;36m<module>\u001b[0;34m()\u001b[0m\n\u001b[1;32m     23\u001b[0m                     acc_losses, train_accuracy, test_accuracy, train_error, test_error = deep_ws.train_model(train_input, train_classes,\n\u001b[1;32m     24\u001b[0m                                                                                                           \u001b[0mtrain_target\u001b[0m\u001b[0;34m,\u001b[0m \u001b[0mtest_input\u001b[0m\u001b[0;34m,\u001b[0m\u001b[0;34m\u001b[0m\u001b[0;34m\u001b[0m\u001b[0m\n\u001b[0;32m---> 25\u001b[0;31m                                                                                                           test_target)\n\u001b[0m\u001b[1;32m     26\u001b[0m                     \u001b[0mtrial_test_accuracies\u001b[0m\u001b[0;34m[\u001b[0m\u001b[0mtrial\u001b[0m\u001b[0;34m]\u001b[0m \u001b[0;34m=\u001b[0m \u001b[0mtorch\u001b[0m\u001b[0;34m.\u001b[0m\u001b[0mmax\u001b[0m\u001b[0;34m(\u001b[0m\u001b[0mtest_accuracy\u001b[0m\u001b[0;34m)\u001b[0m\u001b[0;34m\u001b[0m\u001b[0;34m\u001b[0m\u001b[0m\n\u001b[1;32m     27\u001b[0m                     \u001b[0mpbar\u001b[0m\u001b[0;34m.\u001b[0m\u001b[0mupdate\u001b[0m\u001b[0;34m(\u001b[0m\u001b[0;36m1\u001b[0m\u001b[0;34m)\u001b[0m\u001b[0;34m\u001b[0m\u001b[0;34m\u001b[0m\u001b[0m\n",
            "\u001b[0;32m/content/drive/MyDrive/Colab Notebooks/Deep Learning/Proj1/models.py\u001b[0m in \u001b[0;36mtrain_model\u001b[0;34m(self, train_input, train_classes, train_target, test_input, test_target)\u001b[0m\n\u001b[1;32m    184\u001b[0m       \u001b[0macc_loss\u001b[0m \u001b[0;34m=\u001b[0m \u001b[0;36m0\u001b[0m\u001b[0;34m\u001b[0m\u001b[0;34m\u001b[0m\u001b[0m\n\u001b[1;32m    185\u001b[0m       \u001b[0;32mfor\u001b[0m \u001b[0mb\u001b[0m \u001b[0;32min\u001b[0m \u001b[0mrange\u001b[0m\u001b[0;34m(\u001b[0m\u001b[0;36m0\u001b[0m\u001b[0;34m,\u001b[0m \u001b[0mtrain_input\u001b[0m\u001b[0;34m.\u001b[0m\u001b[0msize\u001b[0m\u001b[0;34m(\u001b[0m\u001b[0;36m0\u001b[0m\u001b[0;34m)\u001b[0m\u001b[0;34m,\u001b[0m \u001b[0mself\u001b[0m\u001b[0;34m.\u001b[0m\u001b[0mmini_batch_size\u001b[0m\u001b[0;34m)\u001b[0m\u001b[0;34m:\u001b[0m\u001b[0;34m\u001b[0m\u001b[0;34m\u001b[0m\u001b[0m\n\u001b[0;32m--> 186\u001b[0;31m         \u001b[0moutput\u001b[0m\u001b[0;34m,\u001b[0m \u001b[0mimg_1_pred\u001b[0m\u001b[0;34m,\u001b[0m \u001b[0mimg_2_pred\u001b[0m \u001b[0;34m=\u001b[0m \u001b[0mself\u001b[0m\u001b[0;34m(\u001b[0m\u001b[0mtrain_input\u001b[0m\u001b[0;34m.\u001b[0m\u001b[0mnarrow\u001b[0m\u001b[0;34m(\u001b[0m\u001b[0;36m0\u001b[0m\u001b[0;34m,\u001b[0m \u001b[0mb\u001b[0m\u001b[0;34m,\u001b[0m \u001b[0mself\u001b[0m\u001b[0;34m.\u001b[0m\u001b[0mmini_batch_size\u001b[0m\u001b[0;34m)\u001b[0m\u001b[0;34m)\u001b[0m\u001b[0;34m\u001b[0m\u001b[0;34m\u001b[0m\u001b[0m\n\u001b[0m\u001b[1;32m    187\u001b[0m \u001b[0;34m\u001b[0m\u001b[0m\n\u001b[1;32m    188\u001b[0m         \u001b[0mloss\u001b[0m \u001b[0;34m=\u001b[0m \u001b[0;34m(\u001b[0m\u001b[0;36m1\u001b[0m\u001b[0;34m-\u001b[0m \u001b[0mself\u001b[0m\u001b[0;34m.\u001b[0m\u001b[0mauxiliary_loss_weight\u001b[0m\u001b[0;34m)\u001b[0m\u001b[0;34m*\u001b[0m\u001b[0mcriterion\u001b[0m\u001b[0;34m(\u001b[0m\u001b[0moutput\u001b[0m\u001b[0;34m,\u001b[0m \u001b[0mtrain_target\u001b[0m\u001b[0;34m.\u001b[0m\u001b[0mnarrow\u001b[0m\u001b[0;34m(\u001b[0m\u001b[0;36m0\u001b[0m\u001b[0;34m,\u001b[0m \u001b[0mb\u001b[0m\u001b[0;34m,\u001b[0m \u001b[0mself\u001b[0m\u001b[0;34m.\u001b[0m\u001b[0mmini_batch_size\u001b[0m\u001b[0;34m)\u001b[0m\u001b[0;34m)\u001b[0m \u001b[0;34m+\u001b[0m\u001b[0;31m \u001b[0m\u001b[0;31m\\\u001b[0m\u001b[0;34m\u001b[0m\u001b[0;34m\u001b[0m\u001b[0m\n",
            "\u001b[0;32m/usr/local/lib/python3.7/dist-packages/torch/nn/modules/module.py\u001b[0m in \u001b[0;36m_call_impl\u001b[0;34m(self, *input, **kwargs)\u001b[0m\n\u001b[1;32m    887\u001b[0m             \u001b[0mresult\u001b[0m \u001b[0;34m=\u001b[0m \u001b[0mself\u001b[0m\u001b[0;34m.\u001b[0m\u001b[0m_slow_forward\u001b[0m\u001b[0;34m(\u001b[0m\u001b[0;34m*\u001b[0m\u001b[0minput\u001b[0m\u001b[0;34m,\u001b[0m \u001b[0;34m**\u001b[0m\u001b[0mkwargs\u001b[0m\u001b[0;34m)\u001b[0m\u001b[0;34m\u001b[0m\u001b[0;34m\u001b[0m\u001b[0m\n\u001b[1;32m    888\u001b[0m         \u001b[0;32melse\u001b[0m\u001b[0;34m:\u001b[0m\u001b[0;34m\u001b[0m\u001b[0;34m\u001b[0m\u001b[0m\n\u001b[0;32m--> 889\u001b[0;31m             \u001b[0mresult\u001b[0m \u001b[0;34m=\u001b[0m \u001b[0mself\u001b[0m\u001b[0;34m.\u001b[0m\u001b[0mforward\u001b[0m\u001b[0;34m(\u001b[0m\u001b[0;34m*\u001b[0m\u001b[0minput\u001b[0m\u001b[0;34m,\u001b[0m \u001b[0;34m**\u001b[0m\u001b[0mkwargs\u001b[0m\u001b[0;34m)\u001b[0m\u001b[0;34m\u001b[0m\u001b[0;34m\u001b[0m\u001b[0m\n\u001b[0m\u001b[1;32m    890\u001b[0m         for hook in itertools.chain(\n\u001b[1;32m    891\u001b[0m                 \u001b[0m_global_forward_hooks\u001b[0m\u001b[0;34m.\u001b[0m\u001b[0mvalues\u001b[0m\u001b[0;34m(\u001b[0m\u001b[0;34m)\u001b[0m\u001b[0;34m,\u001b[0m\u001b[0;34m\u001b[0m\u001b[0;34m\u001b[0m\u001b[0m\n",
            "\u001b[0;32m/content/drive/MyDrive/Colab Notebooks/Deep Learning/Proj1/models.py\u001b[0m in \u001b[0;36mforward\u001b[0;34m(self, x)\u001b[0m\n\u001b[1;32m    162\u001b[0m   \u001b[0;32mdef\u001b[0m \u001b[0mforward\u001b[0m\u001b[0;34m(\u001b[0m\u001b[0mself\u001b[0m\u001b[0;34m,\u001b[0m \u001b[0mx\u001b[0m\u001b[0;34m)\u001b[0m\u001b[0;34m:\u001b[0m\u001b[0;34m\u001b[0m\u001b[0;34m\u001b[0m\u001b[0m\n\u001b[1;32m    163\u001b[0m     \u001b[0mimg_1\u001b[0m\u001b[0;34m,\u001b[0m \u001b[0mimg_2\u001b[0m \u001b[0;34m=\u001b[0m \u001b[0mtorch\u001b[0m\u001b[0;34m.\u001b[0m\u001b[0mchunk\u001b[0m\u001b[0;34m(\u001b[0m\u001b[0mx\u001b[0m\u001b[0;34m,\u001b[0m \u001b[0mchunks\u001b[0m\u001b[0;34m=\u001b[0m\u001b[0;36m2\u001b[0m\u001b[0;34m,\u001b[0m \u001b[0mdim\u001b[0m\u001b[0;34m=\u001b[0m\u001b[0;36m1\u001b[0m\u001b[0;34m)\u001b[0m\u001b[0;34m\u001b[0m\u001b[0;34m\u001b[0m\u001b[0m\n\u001b[0;32m--> 164\u001b[0;31m     \u001b[0mimg_1_pred\u001b[0m \u001b[0;34m=\u001b[0m \u001b[0mself\u001b[0m\u001b[0;34m.\u001b[0m\u001b[0mconv1\u001b[0m\u001b[0;34m(\u001b[0m\u001b[0mimg_1\u001b[0m\u001b[0;34m)\u001b[0m\u001b[0;34m\u001b[0m\u001b[0;34m\u001b[0m\u001b[0m\n\u001b[0m\u001b[1;32m    165\u001b[0m     \u001b[0mimg_2_pred\u001b[0m \u001b[0;34m=\u001b[0m \u001b[0mself\u001b[0m\u001b[0;34m.\u001b[0m\u001b[0mconv1\u001b[0m\u001b[0;34m(\u001b[0m\u001b[0mimg_2\u001b[0m\u001b[0;34m)\u001b[0m\u001b[0;34m\u001b[0m\u001b[0;34m\u001b[0m\u001b[0m\n\u001b[1;32m    166\u001b[0m     \u001b[0mimg_labels\u001b[0m \u001b[0;34m=\u001b[0m \u001b[0mtorch\u001b[0m\u001b[0;34m.\u001b[0m\u001b[0mcat\u001b[0m\u001b[0;34m(\u001b[0m\u001b[0;34m(\u001b[0m\u001b[0mimg_1_pred\u001b[0m\u001b[0;34m,\u001b[0m\u001b[0mimg_2_pred\u001b[0m\u001b[0;34m)\u001b[0m\u001b[0;34m,\u001b[0m \u001b[0mdim\u001b[0m\u001b[0;34m=\u001b[0m\u001b[0;36m1\u001b[0m\u001b[0;34m)\u001b[0m\u001b[0;34m\u001b[0m\u001b[0;34m\u001b[0m\u001b[0m\n",
            "\u001b[0;32m/usr/local/lib/python3.7/dist-packages/torch/nn/modules/module.py\u001b[0m in \u001b[0;36m_call_impl\u001b[0;34m(self, *input, **kwargs)\u001b[0m\n\u001b[1;32m    887\u001b[0m             \u001b[0mresult\u001b[0m \u001b[0;34m=\u001b[0m \u001b[0mself\u001b[0m\u001b[0;34m.\u001b[0m\u001b[0m_slow_forward\u001b[0m\u001b[0;34m(\u001b[0m\u001b[0;34m*\u001b[0m\u001b[0minput\u001b[0m\u001b[0;34m,\u001b[0m \u001b[0;34m**\u001b[0m\u001b[0mkwargs\u001b[0m\u001b[0;34m)\u001b[0m\u001b[0;34m\u001b[0m\u001b[0;34m\u001b[0m\u001b[0m\n\u001b[1;32m    888\u001b[0m         \u001b[0;32melse\u001b[0m\u001b[0;34m:\u001b[0m\u001b[0;34m\u001b[0m\u001b[0;34m\u001b[0m\u001b[0m\n\u001b[0;32m--> 889\u001b[0;31m             \u001b[0mresult\u001b[0m \u001b[0;34m=\u001b[0m \u001b[0mself\u001b[0m\u001b[0;34m.\u001b[0m\u001b[0mforward\u001b[0m\u001b[0;34m(\u001b[0m\u001b[0;34m*\u001b[0m\u001b[0minput\u001b[0m\u001b[0;34m,\u001b[0m \u001b[0;34m**\u001b[0m\u001b[0mkwargs\u001b[0m\u001b[0;34m)\u001b[0m\u001b[0;34m\u001b[0m\u001b[0;34m\u001b[0m\u001b[0m\n\u001b[0m\u001b[1;32m    890\u001b[0m         for hook in itertools.chain(\n\u001b[1;32m    891\u001b[0m                 \u001b[0m_global_forward_hooks\u001b[0m\u001b[0;34m.\u001b[0m\u001b[0mvalues\u001b[0m\u001b[0;34m(\u001b[0m\u001b[0;34m)\u001b[0m\u001b[0;34m,\u001b[0m\u001b[0;34m\u001b[0m\u001b[0;34m\u001b[0m\u001b[0m\n",
            "\u001b[0;32m/usr/local/lib/python3.7/dist-packages/torch/nn/modules/container.py\u001b[0m in \u001b[0;36mforward\u001b[0;34m(self, input)\u001b[0m\n\u001b[1;32m    117\u001b[0m     \u001b[0;32mdef\u001b[0m \u001b[0mforward\u001b[0m\u001b[0;34m(\u001b[0m\u001b[0mself\u001b[0m\u001b[0;34m,\u001b[0m \u001b[0minput\u001b[0m\u001b[0;34m)\u001b[0m\u001b[0;34m:\u001b[0m\u001b[0;34m\u001b[0m\u001b[0;34m\u001b[0m\u001b[0m\n\u001b[1;32m    118\u001b[0m         \u001b[0;32mfor\u001b[0m \u001b[0mmodule\u001b[0m \u001b[0;32min\u001b[0m \u001b[0mself\u001b[0m\u001b[0;34m:\u001b[0m\u001b[0;34m\u001b[0m\u001b[0;34m\u001b[0m\u001b[0m\n\u001b[0;32m--> 119\u001b[0;31m             \u001b[0minput\u001b[0m \u001b[0;34m=\u001b[0m \u001b[0mmodule\u001b[0m\u001b[0;34m(\u001b[0m\u001b[0minput\u001b[0m\u001b[0;34m)\u001b[0m\u001b[0;34m\u001b[0m\u001b[0;34m\u001b[0m\u001b[0m\n\u001b[0m\u001b[1;32m    120\u001b[0m         \u001b[0;32mreturn\u001b[0m \u001b[0minput\u001b[0m\u001b[0;34m\u001b[0m\u001b[0;34m\u001b[0m\u001b[0m\n\u001b[1;32m    121\u001b[0m \u001b[0;34m\u001b[0m\u001b[0m\n",
            "\u001b[0;32m/usr/local/lib/python3.7/dist-packages/torch/nn/modules/module.py\u001b[0m in \u001b[0;36m_call_impl\u001b[0;34m(self, *input, **kwargs)\u001b[0m\n\u001b[1;32m    887\u001b[0m             \u001b[0mresult\u001b[0m \u001b[0;34m=\u001b[0m \u001b[0mself\u001b[0m\u001b[0;34m.\u001b[0m\u001b[0m_slow_forward\u001b[0m\u001b[0;34m(\u001b[0m\u001b[0;34m*\u001b[0m\u001b[0minput\u001b[0m\u001b[0;34m,\u001b[0m \u001b[0;34m**\u001b[0m\u001b[0mkwargs\u001b[0m\u001b[0;34m)\u001b[0m\u001b[0;34m\u001b[0m\u001b[0;34m\u001b[0m\u001b[0m\n\u001b[1;32m    888\u001b[0m         \u001b[0;32melse\u001b[0m\u001b[0;34m:\u001b[0m\u001b[0;34m\u001b[0m\u001b[0;34m\u001b[0m\u001b[0m\n\u001b[0;32m--> 889\u001b[0;31m             \u001b[0mresult\u001b[0m \u001b[0;34m=\u001b[0m \u001b[0mself\u001b[0m\u001b[0;34m.\u001b[0m\u001b[0mforward\u001b[0m\u001b[0;34m(\u001b[0m\u001b[0;34m*\u001b[0m\u001b[0minput\u001b[0m\u001b[0;34m,\u001b[0m \u001b[0;34m**\u001b[0m\u001b[0mkwargs\u001b[0m\u001b[0;34m)\u001b[0m\u001b[0;34m\u001b[0m\u001b[0;34m\u001b[0m\u001b[0m\n\u001b[0m\u001b[1;32m    890\u001b[0m         for hook in itertools.chain(\n\u001b[1;32m    891\u001b[0m                 \u001b[0m_global_forward_hooks\u001b[0m\u001b[0;34m.\u001b[0m\u001b[0mvalues\u001b[0m\u001b[0;34m(\u001b[0m\u001b[0;34m)\u001b[0m\u001b[0;34m,\u001b[0m\u001b[0;34m\u001b[0m\u001b[0;34m\u001b[0m\u001b[0m\n",
            "\u001b[0;32m/usr/local/lib/python3.7/dist-packages/torch/nn/modules/pooling.py\u001b[0m in \u001b[0;36mforward\u001b[0;34m(self, input)\u001b[0m\n\u001b[1;32m    162\u001b[0m         return F.max_pool2d(input, self.kernel_size, self.stride,\n\u001b[1;32m    163\u001b[0m                             \u001b[0mself\u001b[0m\u001b[0;34m.\u001b[0m\u001b[0mpadding\u001b[0m\u001b[0;34m,\u001b[0m \u001b[0mself\u001b[0m\u001b[0;34m.\u001b[0m\u001b[0mdilation\u001b[0m\u001b[0;34m,\u001b[0m \u001b[0mself\u001b[0m\u001b[0;34m.\u001b[0m\u001b[0mceil_mode\u001b[0m\u001b[0;34m,\u001b[0m\u001b[0;34m\u001b[0m\u001b[0;34m\u001b[0m\u001b[0m\n\u001b[0;32m--> 164\u001b[0;31m                             self.return_indices)\n\u001b[0m\u001b[1;32m    165\u001b[0m \u001b[0;34m\u001b[0m\u001b[0m\n\u001b[1;32m    166\u001b[0m \u001b[0;34m\u001b[0m\u001b[0m\n",
            "\u001b[0;32m/usr/local/lib/python3.7/dist-packages/torch/_jit_internal.py\u001b[0m in \u001b[0;36mfn\u001b[0;34m(*args, **kwargs)\u001b[0m\n\u001b[1;32m    363\u001b[0m             \u001b[0;32mreturn\u001b[0m \u001b[0mif_true\u001b[0m\u001b[0;34m(\u001b[0m\u001b[0;34m*\u001b[0m\u001b[0margs\u001b[0m\u001b[0;34m,\u001b[0m \u001b[0;34m**\u001b[0m\u001b[0mkwargs\u001b[0m\u001b[0;34m)\u001b[0m\u001b[0;34m\u001b[0m\u001b[0;34m\u001b[0m\u001b[0m\n\u001b[1;32m    364\u001b[0m         \u001b[0;32melse\u001b[0m\u001b[0;34m:\u001b[0m\u001b[0;34m\u001b[0m\u001b[0;34m\u001b[0m\u001b[0m\n\u001b[0;32m--> 365\u001b[0;31m             \u001b[0;32mreturn\u001b[0m \u001b[0mif_false\u001b[0m\u001b[0;34m(\u001b[0m\u001b[0;34m*\u001b[0m\u001b[0margs\u001b[0m\u001b[0;34m,\u001b[0m \u001b[0;34m**\u001b[0m\u001b[0mkwargs\u001b[0m\u001b[0;34m)\u001b[0m\u001b[0;34m\u001b[0m\u001b[0;34m\u001b[0m\u001b[0m\n\u001b[0m\u001b[1;32m    366\u001b[0m \u001b[0;34m\u001b[0m\u001b[0m\n\u001b[1;32m    367\u001b[0m     \u001b[0;32mif\u001b[0m \u001b[0mif_true\u001b[0m\u001b[0;34m.\u001b[0m\u001b[0m__doc__\u001b[0m \u001b[0;32mis\u001b[0m \u001b[0;32mNone\u001b[0m \u001b[0;32mand\u001b[0m \u001b[0mif_false\u001b[0m\u001b[0;34m.\u001b[0m\u001b[0m__doc__\u001b[0m \u001b[0;32mis\u001b[0m \u001b[0;32mnot\u001b[0m \u001b[0;32mNone\u001b[0m\u001b[0;34m:\u001b[0m\u001b[0;34m\u001b[0m\u001b[0;34m\u001b[0m\u001b[0m\n",
            "\u001b[0;32m/usr/local/lib/python3.7/dist-packages/torch/nn/functional.py\u001b[0m in \u001b[0;36m_max_pool2d\u001b[0;34m(input, kernel_size, stride, padding, dilation, ceil_mode, return_indices)\u001b[0m\n\u001b[1;32m    657\u001b[0m     \u001b[0;32mif\u001b[0m \u001b[0mstride\u001b[0m \u001b[0;32mis\u001b[0m \u001b[0;32mNone\u001b[0m\u001b[0;34m:\u001b[0m\u001b[0;34m\u001b[0m\u001b[0;34m\u001b[0m\u001b[0m\n\u001b[1;32m    658\u001b[0m         \u001b[0mstride\u001b[0m \u001b[0;34m=\u001b[0m \u001b[0mtorch\u001b[0m\u001b[0;34m.\u001b[0m\u001b[0mjit\u001b[0m\u001b[0;34m.\u001b[0m\u001b[0mannotate\u001b[0m\u001b[0;34m(\u001b[0m\u001b[0mList\u001b[0m\u001b[0;34m[\u001b[0m\u001b[0mint\u001b[0m\u001b[0;34m]\u001b[0m\u001b[0;34m,\u001b[0m \u001b[0;34m[\u001b[0m\u001b[0;34m]\u001b[0m\u001b[0;34m)\u001b[0m\u001b[0;34m\u001b[0m\u001b[0;34m\u001b[0m\u001b[0m\n\u001b[0;32m--> 659\u001b[0;31m     \u001b[0;32mreturn\u001b[0m \u001b[0mtorch\u001b[0m\u001b[0;34m.\u001b[0m\u001b[0mmax_pool2d\u001b[0m\u001b[0;34m(\u001b[0m\u001b[0minput\u001b[0m\u001b[0;34m,\u001b[0m \u001b[0mkernel_size\u001b[0m\u001b[0;34m,\u001b[0m \u001b[0mstride\u001b[0m\u001b[0;34m,\u001b[0m \u001b[0mpadding\u001b[0m\u001b[0;34m,\u001b[0m \u001b[0mdilation\u001b[0m\u001b[0;34m,\u001b[0m \u001b[0mceil_mode\u001b[0m\u001b[0;34m)\u001b[0m\u001b[0;34m\u001b[0m\u001b[0;34m\u001b[0m\u001b[0m\n\u001b[0m\u001b[1;32m    660\u001b[0m \u001b[0;34m\u001b[0m\u001b[0m\n\u001b[1;32m    661\u001b[0m \u001b[0;34m\u001b[0m\u001b[0m\n",
            "\u001b[0;31mKeyboardInterrupt\u001b[0m: "
          ]
        }
      ]
    },
    {
      "cell_type": "code",
      "metadata": {
        "id": "Xe-bEN_Ereu0",
        "colab": {
          "base_uri": "https://localhost:8080/"
        },
        "outputId": "c614ba2e-8459-4e71-f9ff-be591c6f8b00"
      },
      "source": [
        "max_index = (test_accuracies_deep_ws == torch.max(test_accuracies_deep_ws)).nonzero(as_tuple=True)\n",
        "i,j,k,l,m,n = max_index\n",
        "optimizer_deep_ws = optimizers[i]\n",
        "nb_epoch_deep_ws = nb_epochs[j]\n",
        "lr_deep_ws = lrs[k]\n",
        "mini_batch_size_deep_ws = mini_batch_sizes[l]\n",
        "nb_hidden_deep_ws = nb_hiddens[m]\n",
        "auxiliary_loss_weight_deep_ws = auxiliary_loss_weights[n]\n",
        "print(\"Best test accuracy for DeepModelWS is {}, obtained by the following parameters:\".format(test_accuracies_deep_ws[max_index]))\n",
        "print(\"optimizer = {0}, nb_epoch = {1}, lr = {2}, mini_batch_size = {3}, nb_hidden = {4}, auxiliary_loss_weight = {5}\".format(optimizer_deep_ws, nb_epoch_deep_ws, lr_deep_ws, mini_batch_size_deep_ws, nb_hidden_deep_ws, auxiliary_loss_weight_deep_ws))"
      ],
      "execution_count": 28,
      "outputs": [
        {
          "output_type": "stream",
          "text": [
            "Best test accuracy for DeepModelWS is tensor([84.0000]), obtained by the following parameters:\n",
            "optimizer = <class 'torch.optim.adam.Adam'>, nb_epoch = 25, lr = 0.01, mini_batch_size = 100, nb_hidden = 300, auxiliary_loss_weight = 0\n"
          ],
          "name": "stdout"
        }
      ]
    },
    {
      "cell_type": "code",
      "metadata": {
        "id": "7w_fllsRtem5"
      },
      "source": [
        "TRAIN_MODEL_SHALLOW = False # Switch to True to retrain the models.\n",
        "LOAD_PICKLE_SHALLOW = True  # Switch to False to ignore loading pickle.\n",
        "\n",
        "if LOAD_PICKLE_SHALLOW == True:\n",
        "  test_accuracies_shallow = torch.load('data/pickles/shallow/test_accuracies.pt')\n",
        "else:\n",
        "  test_accuracies_shallow = torch.zeros(len(optimizers), len(nb_epochs), len(lrs), len(mini_batch_sizes), len(nb_hiddens))\n",
        "# Hyperparameter optimization grid search for ShallowModel\n",
        "if TRAIN_MODEL_SHALLOW == True:\n",
        "  with tqdm(total=len(optimizers)*len(nb_epochs)*len(lrs)*len(mini_batch_sizes)*len(nb_hiddens)*nb_trials) as pbar:\n",
        "    for i,optimizer in enumerate(optimizers):\n",
        "      for j,nb_epoch in enumerate(nb_epochs):\n",
        "        for k,lr in enumerate(lrs):\n",
        "          for l,mini_batch_size in enumerate(mini_batch_sizes):\n",
        "            for m,nb_hidden in enumerate(nb_hiddens):\n",
        "              if test_accuracies_shallow[i,j,k,l,m] == 0:\n",
        "                trial_test_accuracies = torch.zeros(nb_trials)\n",
        "                for trial in range(nb_trials):\n",
        "                  train_input, train_target, train_classes, test_input, test_target, test_classes = prologue.generate_pair_sets(nb_samples)\n",
        "                  train_input, train_target, train_classes, test_input, test_target, test_classes = train_input.to(device), train_target.to(device), train_classes.to(device), test_input.to(device), test_target.to(device), test_classes.to(device)\n",
        "                  shallow = ShallowModel(nb_hidden, nb_epoch, lr, mini_batch_size).to(device)\n",
        "                  acc_losses, train_accuracy, test_accuracy, train_error, test_error = shallow.train_model(train_input, train_target, test_input, test_target)\n",
        "                  trial_test_accuracies[trial] = torch.max(test_accuracy)\n",
        "                  pbar.update(1)\n",
        "                test_accuracies_shallow[i,j,k,l,m] = torch.mean(trial_test_accuracies).item()                  \n",
        "          torch.save(test_accuracies_shallow,'data/pickles/shallow/test_accuracies.pt')"
      ],
      "execution_count": 6,
      "outputs": []
    },
    {
      "cell_type": "code",
      "metadata": {
        "id": "Y5t1JB1JrpGs",
        "colab": {
          "base_uri": "https://localhost:8080/"
        },
        "outputId": "a2e97196-8f28-4f42-cff4-4c47af6b8d8f"
      },
      "source": [
        "max_index = (test_accuracies_shallow == torch.max(test_accuracies_shallow)).nonzero(as_tuple=True)\n",
        "i,j,k,l,m = max_index\n",
        "optimizer_shallow = optimizers[i]\n",
        "nb_epoch_shallow = nb_epochs[j]\n",
        "lr_shallow = lrs[k]\n",
        "mini_batch_size_shallow = mini_batch_sizes[l]\n",
        "nb_hidden_shallow = nb_hiddens[m]\n",
        "print(\"Best test accuracy for ShallowModel is {}, obtained by the following parameters:\".format(test_accuracies_shallow[max_index]))\n",
        "print(\"optimizer = {0}, nb_epoch = {1}, lr = {2}, mini_batch_size = {3}, nb_hidden = {4}\".format(optimizer_shallow, nb_epoch_shallow, lr_shallow, mini_batch_size_shallow, nb_hidden_shallow))"
      ],
      "execution_count": 7,
      "outputs": [
        {
          "output_type": "stream",
          "text": [
            "Best test accuracy for ShallowModel is tensor([76.8000]), obtained by the following parameters:\n",
            "optimizer = <class 'torch.optim.adam.Adam'>, nb_epoch = 25, lr = 0.001, mini_batch_size = 100, nb_hidden = 500\n"
          ],
          "name": "stdout"
        }
      ]
    },
    {
      "cell_type": "markdown",
      "metadata": {
        "id": "A6L0znyJV5Ws"
      },
      "source": [
        "## Model output evolution\n",
        "During this task, we set the best hyperparameter combination for each one of the models. Then, for a set number of trials, we generate random train and test datasets and retrain each model. Finally, we study the evolution of the train and test accuracies as well as the loss in function of the epochs and their variation between trials."
      ]
    },
    {
      "cell_type": "code",
      "metadata": {
        "id": "5dLCiRqSvYys"
      },
      "source": [
        "nb_trials = 10\n",
        "LOAD_PERFORMANCE_DEEP = True\n",
        "if LOAD_PERFORMANCE_DEEP == False:\n",
        "  trial_test_accuracies_deep = torch.zeros(nb_trials, nb_epoch_deep)\n",
        "  trial_train_accuracies_deep = torch.zeros(nb_trials, nb_epoch_deep)\n",
        "  trial_losses_deep = torch.zeros(nb_trials, nb_epoch_deep)\n",
        "  deeps= [None]*nb_trials\n",
        "  for trial in tqdm(range(nb_trials)):\n",
        "    train_input, train_target, train_classes, test_input, test_target, test_classes = prologue.generate_pair_sets(nb_samples)\n",
        "    train_input, train_target, train_classes, test_input, test_target, test_classes = train_input.to(device), train_target.to(device), train_classes.to(device), test_input.to(device), test_target.to(device), test_classes.to(device)\n",
        "    deeps[trial] = DeepModel(nb_hidden_deep, nb_epoch_deep, lr_deep, mini_batch_size_deep, auxiliary_loss_weight_deep).to(device)\n",
        "    acc_losses, train_accuracy, test_accuracy, train_error, test_error = deeps[trial].train_model(train_input, train_classes,\n",
        "                                                                                        train_target, test_input,\n",
        "                                                                                        test_target)\n",
        "    trial_test_accuracies_deep[trial,:] = test_accuracy\n",
        "    trial_train_accuracies_deep[trial,:] = train_accuracy\n",
        "    trial_losses_deep[trial,:] = acc_losses\n",
        "\n",
        "  best_performance_idx_deep = (trial_test_accuracies_deep == torch.max(trial_test_accuracies_deep)).nonzero(as_tuple=True)\n",
        "  deep_best = deeps[best_performance_idx_deep[0]]\n",
        "  \n",
        "  torch.save(deep_best.state_dict(), 'data/pickles/deep/best_model.pt')  \n",
        "  torch.save(trial_test_accuracies_deep, 'data/pickles/deep/trial_test_accuracies.pt')\n",
        "  torch.save(trial_train_accuracies_deep, 'data/pickles/deep/trial_train_accuracies.pt')\n",
        "  torch.save(trial_losses_deep, 'data/pickles/deep/trial_losses.pt')\n",
        "\n",
        "else:\n",
        "  deep_best = DeepModel(nb_hidden_deep, nb_epoch_deep, lr_deep, mini_batch_size_deep, auxiliary_loss_weight_deep).to(device)\n",
        "  deep_best.load_state_dict(torch.load('data/pickles/deep/best_model.pt'))\n",
        "\n",
        "  trial_test_accuracies_deep = torch.load('data/pickles/deep/trial_test_accuracies.pt')\n",
        "  trial_train_accuracies_deep = torch.load('data/pickles/deep/trial_train_accuracies.pt')\n",
        "  trial_losses_deep = torch.load('data/pickles/deep/trial_losses.pt')"
      ],
      "execution_count": 11,
      "outputs": []
    },
    {
      "cell_type": "code",
      "metadata": {
        "id": "gY33GJNmRXzz"
      },
      "source": [
        "nb_trials = 10\n",
        "LOAD_PERFORMANCE_DEEP_WS = True\n",
        "if LOAD_PERFORMANCE_DEEP_WS == False:\n",
        "  trial_test_accuracies_deep_ws = torch.zeros(nb_trials, nb_epoch_deep_ws)\n",
        "  trial_train_accuracies_deep_ws = torch.zeros(nb_trials, nb_epoch_deep_ws)\n",
        "  trial_losses_deep_ws = torch.zeros(nb_trials, nb_epoch_deep_ws)\n",
        "  deep_wss= [None]*nb_trials\n",
        "  for trial in tqdm(range(nb_trials)):\n",
        "    train_input, train_target, train_classes, test_input, test_target, test_classes = prologue.generate_pair_sets(nb_samples)\n",
        "    train_input, train_target, train_classes, test_input, test_target, test_classes = train_input.to(device), train_target.to(device), train_classes.to(device), test_input.to(device), test_target.to(device), test_classes.to(device)\n",
        "    deep_wss[trial] = DeepModelWS(nb_hidden_deep_ws, nb_epoch_deep_ws, lr_deep_ws, mini_batch_size_deep_ws, auxiliary_loss_weight_deep_ws).to(device)\n",
        "    acc_losses, train_accuracy, test_accuracy, train_error, test_error = deep_wss[trial].train_model(train_input, train_classes,\n",
        "                                                                                        train_target, test_input,\n",
        "                                                                                        test_target)\n",
        "    trial_test_accuracies_deep_ws[trial,:] = test_accuracy\n",
        "    trial_train_accuracies_deep_ws[trial,:] = train_accuracy\n",
        "    trial_losses_deep_ws[trial,:] = acc_losses\n",
        "\n",
        "  best_performance_idx_deep_ws = (trial_test_accuracies_deep_ws == torch.max(trial_test_accuracies_deep_ws)).nonzero(as_tuple=True)\n",
        "  deep_ws_best = deep_wss[best_performance_idx_deep_ws[0]]\n",
        "  \n",
        "  torch.save(deep_ws_best.state_dict(), 'data/pickles/deep_ws/best_model.pt')  \n",
        "  torch.save(trial_test_accuracies_deep_ws, 'data/pickles/deep_ws/trial_test_accuracies.pt')\n",
        "  torch.save(trial_train_accuracies_deep_ws, 'data/pickles/deep_ws/trial_train_accuracies.pt')\n",
        "  torch.save(trial_losses_deep_ws, 'data/pickles/deep_ws/trial_losses.pt')\n",
        "\n",
        "else:\n",
        "  deep_ws_best = DeepModelWS(nb_hidden_deep_ws, nb_epoch_deep_ws, lr_deep_ws, mini_batch_size_deep_ws, auxiliary_loss_weight_deep_ws).to(device)\n",
        "  deep_ws_best.load_state_dict(torch.load('data/pickles/deep_ws/best_model.pt'))\n",
        "\n",
        "  trial_test_accuracies_deep_ws = torch.load('data/pickles/deep_ws/trial_test_accuracies.pt')\n",
        "  trial_train_accuracies_deep_ws = torch.load('data/pickles/deep_ws/trial_train_accuracies.pt')\n",
        "  trial_losses_deep_ws = torch.load('data/pickles/deep_ws/trial_losses.pt')"
      ],
      "execution_count": 12,
      "outputs": []
    },
    {
      "cell_type": "code",
      "metadata": {
        "id": "1UwF17dJRt-8"
      },
      "source": [
        "nb_trials = 10\n",
        "LOAD_PERFORMANCE_SHALLOW = True\n",
        "if LOAD_PERFORMANCE_SHALLOW == False:\n",
        "  trial_test_accuracies_shallow = torch.zeros(nb_trials, nb_epoch_shallow)\n",
        "  trial_train_accuracies_shallow = torch.zeros(nb_trials, nb_epoch_shallow)\n",
        "  trial_losses_shallow = torch.zeros(nb_trials, nb_epoch_shallow)\n",
        "  shallows= [None]*nb_trials\n",
        "  for trial in tqdm(range(nb_trials)):\n",
        "    train_input, train_target, train_classes, test_input, test_target, test_classes = prologue.generate_pair_sets(nb_samples)\n",
        "    train_input, train_target, train_classes, test_input, test_target, test_classes = train_input.to(device), train_target.to(device), train_classes.to(device), test_input.to(device), test_target.to(device), test_classes.to(device)\n",
        "    shallows[trial] = ShallowModel(nb_hidden_shallow, nb_epoch_shallow, lr_shallow, mini_batch_size_shallow).to(device)\n",
        "    acc_losses, train_accuracy, test_accuracy, train_error, test_error = shallows[trial].train_model(train_input, train_target, test_input, test_target)\n",
        "    trial_test_accuracies_shallow[trial,:] = test_accuracy\n",
        "    trial_train_accuracies_shallow[trial,:] = train_accuracy\n",
        "    trial_losses_shallow[trial,:] = acc_losses\n",
        "\n",
        "  best_performance_idx_shallow = (trial_test_accuracies_shallow == torch.max(trial_test_accuracies_shallow)).nonzero(as_tuple=True)\n",
        "  shallow_best = shallows[best_performance_idx_shallow[0]]\n",
        "  \n",
        "  torch.save(shallow_best.state_dict(), 'data/pickles/shallow/best_model.pt')  \n",
        "  torch.save(trial_test_accuracies_shallow, 'data/pickles/shallow/trial_test_accuracies.pt')\n",
        "  torch.save(trial_train_accuracies_shallow, 'data/pickles/shallow/trial_train_accuracies.pt')\n",
        "  torch.save(trial_losses_shallow, 'data/pickles/shallow/trial_losses.pt')\n",
        "\n",
        "else:\n",
        "  shallow_best = ShallowModel(nb_hidden_shallow, nb_epoch_shallow, lr_shallow, mini_batch_size_shallow).to(device)\n",
        "  shallow_best.load_state_dict(torch.load('data/pickles/shallow/best_model.pt'))\n",
        "\n",
        "  trial_test_accuracies_shallow = torch.load('data/pickles/shallow/trial_test_accuracies.pt')\n",
        "  trial_train_accuracies_shallow = torch.load('data/pickles/shallow/trial_train_accuracies.pt')\n",
        "  trial_losses_shallow = torch.load('data/pickles/shallow/trial_losses.pt')"
      ],
      "execution_count": 13,
      "outputs": []
    },
    {
      "cell_type": "code",
      "metadata": {
        "colab": {
          "base_uri": "https://localhost:8080/",
          "height": 259
        },
        "id": "k_FRWmh7KKjQ",
        "outputId": "0cac89aa-f188-4806-b3ab-905fb02ab83b"
      },
      "source": [
        "helpers.plot_model_output(trial_train_accuracies_deep, trial_test_accuracies_deep, trial_losses_deep, \"DeepModel\")"
      ],
      "execution_count": 14,
      "outputs": [
        {
          "output_type": "stream",
          "text": [
            "No handles with labels found to put in legend.\n"
          ],
          "name": "stderr"
        },
        {
          "output_type": "display_data",
          "data": {
            "image/png": "[encoded data removed]",
            "text/plain": [
              "<Figure size 864x216 with 2 Axes>"
            ]
          },
          "metadata": {
            "tags": [],
            "needs_background": "light"
          }
        }
      ]
    },
    {
      "cell_type": "code",
      "metadata": {
        "id": "_s1A5pBxTKb8",
        "colab": {
          "base_uri": "https://localhost:8080/",
          "height": 259
        },
        "outputId": "0f5ed761-8f05-4964-8cbb-91bb0bead20f"
      },
      "source": [
        "helpers.plot_model_output(trial_train_accuracies_deep_ws, trial_test_accuracies_deep_ws, trial_losses_deep_ws, \"DeepModelWS\")"
      ],
      "execution_count": 15,
      "outputs": [
        {
          "output_type": "stream",
          "text": [
            "No handles with labels found to put in legend.\n"
          ],
          "name": "stderr"
        },
        {
          "output_type": "display_data",
          "data": {
            "image/png": "[encoded data removed]",
            "text/plain": [
              "<Figure size 864x216 with 2 Axes>"
            ]
          },
          "metadata": {
            "tags": [],
            "needs_background": "light"
          }
        }
      ]
    },
    {
      "cell_type": "code",
      "metadata": {
        "id": "LD_UpBXoTNbb",
        "colab": {
          "base_uri": "https://localhost:8080/",
          "height": 259
        },
        "outputId": "5921d86e-ac87-482d-d1bf-a36d80a79ea1"
      },
      "source": [
        "helpers.plot_model_output(trial_train_accuracies_shallow, trial_test_accuracies_shallow, trial_losses_shallow, \"ShallowModel\")"
      ],
      "execution_count": 16,
      "outputs": [
        {
          "output_type": "stream",
          "text": [
            "No handles with labels found to put in legend.\n"
          ],
          "name": "stderr"
        },
        {
          "output_type": "display_data",
          "data": {
            "image/png": "[encoded data removed]",
            "text/plain": [
              "<Figure size 864x216 with 2 Axes>"
            ]
          },
          "metadata": {
            "tags": [],
            "needs_background": "light"
          }
        }
      ]
    }
  ]
}