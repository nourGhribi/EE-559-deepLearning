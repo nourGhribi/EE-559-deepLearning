{
 "cells": [
  {
   "cell_type": "code",
   "execution_count": 1,
   "id": "ff26ede5-1863-4b0a-80fe-ba9624e9ddc9",
   "metadata": {},
   "outputs": [],
   "source": [
    "import sys  \n",
    "sys.path.append(\"../\")\n",
    "\n",
    "import torch\n",
    "import math\n",
    "from modules import *\n",
    "from initializers import Xavier\n",
    "from activations import *"
   ]
  },
  {
   "cell_type": "code",
   "execution_count": 2,
   "id": "fd5e3a9d-2c4d-497d-943e-fa0acec5148f",
   "metadata": {},
   "outputs": [],
   "source": [
    "model = Sequential(Linear(1,12,bias=False),\n",
    "                    ReLU(),\n",
    "                    Linear(12,16),\n",
    "                    ReLU(),\n",
    "                    Linear(16,12,bias=False),\n",
    "                    ReLU(),\n",
    "                    Linear(12,1))"
   ]
  },
  {
   "cell_type": "code",
   "execution_count": 3,
   "id": "42659ef9-e8f8-4128-8a63-137e67524dfb",
   "metadata": {},
   "outputs": [
    {
     "name": "stdout",
     "output_type": "stream",
     "text": [
      "layer = 1\n",
      "torch.Size([12, 1])\n",
      "--------------------------------------------------\n",
      "layer = 2\n",
      "torch.Size([16, 12])\n",
      "torch.Size([1, 16])\n",
      "--------------------------------------------------\n",
      "layer = 3\n",
      "torch.Size([12, 16])\n",
      "--------------------------------------------------\n",
      "layer = 4\n",
      "torch.Size([1, 12])\n",
      "torch.Size([1, 1])\n",
      "--------------------------------------------------\n"
     ]
    }
   ],
   "source": [
    "print(model)"
   ]
  },
  {
   "cell_type": "code",
   "execution_count": 4,
   "id": "dac28e8e-3a31-4875-a6d5-50207fb15a7e",
   "metadata": {},
   "outputs": [
    {
     "data": {
      "text/plain": [
       "'1\\n2'"
      ]
     },
     "execution_count": 4,
     "metadata": {},
     "output_type": "execute_result"
    }
   ],
   "source": [
    "\"\\n\".join([\"1\",\"2\"])"
   ]
  },
  {
   "cell_type": "code",
   "execution_count": null,
   "id": "6e0c1234-3e79-42ff-96a3-79a4e2870a39",
   "metadata": {},
   "outputs": [],
   "source": []
  }
 ],
 "metadata": {
  "kernelspec": {
   "display_name": "Python 3",
   "language": "python",
   "name": "python3"
  },
  "language_info": {
   "codemirror_mode": {
    "name": "ipython",
    "version": 3
   },
   "file_extension": ".py",
   "mimetype": "text/x-python",
   "name": "python",
   "nbconvert_exporter": "python",
   "pygments_lexer": "ipython3",
   "version": "3.7.7"
  }
 },
 "nbformat": 4,
 "nbformat_minor": 5
}
