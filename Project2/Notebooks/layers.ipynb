{
 "cells": [
  {
   "cell_type": "code",
   "execution_count": 1,
   "id": "ff26ede5-1863-4b0a-80fe-ba9624e9ddc9",
   "metadata": {},
   "outputs": [],
   "source": [
    "import torch\n",
    "import math"
   ]
  },
  {
   "cell_type": "code",
   "execution_count": 2,
   "id": "dbd95496-28f7-4e47-aeb3-411ec9f1da0f",
   "metadata": {},
   "outputs": [],
   "source": [
    "class Module(object):\n",
    "    \"\"\"\n",
    "        Module class - all other models architecture classes in the framework should inherit from\n",
    "    \"\"\"\n",
    "    def forward(self, *input):\n",
    "        raise NotImplementedError\n",
    "\n",
    "    def backward(self, *upstream_derivative):\n",
    "        raise NotImplementedError\n",
    "\n",
    "    def param(self):\n",
    "        return []"
   ]
  },
  {
   "cell_type": "code",
   "execution_count": 3,
   "id": "78e14af4-a431-4a13-9604-0b0fc61fce12",
   "metadata": {},
   "outputs": [],
   "source": [
    "class Linear(Module):\n",
    "    \"\"\" Fully connected layer\n",
    "        Y = X * W + b.\n",
    "        Parameters : dim_in and dim_out\n",
    "    \"\"\"\n",
    "    def __init__(self, dim_in, dim_out):\n",
    "        super(Linear, self).__init__()\n",
    "        self.dim_in = dim_in\n",
    "        self.dim_out = dim_out\n",
    "\n",
    "    def forward(self):\n",
    "        return\n",
    "\n",
    "    def backward(self):\n",
    "        return\n",
    "\n",
    "    def param(self):\n",
    "        return []\n",
    "\n",
    "\n",
    "class Sequential(Module):\n",
    "    \"\"\"\n",
    "    Sequential\n",
    "    \"\"\"\n",
    "    def __init__(self, *layers):\n",
    "        super(Sequential, self).__init__()\n",
    "        self.layers = []\n",
    "        for layer in layers:\n",
    "            self.layers.append(layer)\n",
    "\n",
    "    def forward(self, x):\n",
    "        for layer in self.layers:\n",
    "            x = layer.forward(x)\n",
    "        return x\n",
    "\n",
    "    def backward(self, grad):\n",
    "        # Take the reverse of the list of layers,\n",
    "        # and do a backward pass for each layer\n",
    "        for layer in self.layers[::-1]:\n",
    "            grad = layer.backward(grad)\n",
    "        return grad\n",
    "\n",
    "    def param(self):\n",
    "        parameters = []\n",
    "        for layer in self.layers:\n",
    "            parameters += layer.param()\n",
    "        return parameters"
   ]
  },
  {
   "cell_type": "code",
   "execution_count": null,
   "id": "c934cc1b-a688-45e2-b85f-ae8fbcbc97e9",
   "metadata": {},
   "outputs": [],
   "source": []
  }
 ],
 "metadata": {
  "kernelspec": {
   "display_name": "Python 3",
   "language": "python",
   "name": "python3"
  },
  "language_info": {
   "codemirror_mode": {
    "name": "ipython",
    "version": 3
   },
   "file_extension": ".py",
   "mimetype": "text/x-python",
   "name": "python",
   "nbconvert_exporter": "python",
   "pygments_lexer": "ipython3",
   "version": "3.7.7"
  }
 },
 "nbformat": 4,
 "nbformat_minor": 5
}
